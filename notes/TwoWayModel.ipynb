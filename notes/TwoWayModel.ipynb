{
 "cells": [
  {
   "cell_type": "markdown",
   "metadata": {},
   "source": [
    "## Two-Way Model\n",
    "### Data"
   ]
  },
  {
   "cell_type": "code",
   "execution_count": 62,
   "metadata": {
    "collapsed": false
   },
   "outputs": [],
   "source": [
    "using Distributions\n",
    "n = 1000000\n",
    "pA = 1000\n",
    "pB = 500\n",
    "A = sample([1:pA],n)\n",
    "B = sample([1:pB],n)\n",
    "α = randn(pA)\n",
    "β = randn(pB)"
   ]
  },
  {
   "cell_type": "markdown",
   "metadata": {},
   "source": [
    "### Computing sparse-stored X'X without matrix multiplication"
   ]
  },
  {
   "cell_type": "code",
   "execution_count": 7,
   "metadata": {
    "collapsed": false
   },
   "outputs": [
    {
     "data": {
      "text/plain": [
       "1501x1501 sparse matrix with 0 Float64 entries:"
      ]
     },
     "execution_count": 7,
     "metadata": {},
     "output_type": "execute_result"
    }
   ],
   "source": [
    "p = 1 + pA + pB\n",
    "XPX = spzeros(p,p)"
   ]
  },
  {
   "cell_type": "code",
   "execution_count": 12,
   "metadata": {
    "collapsed": false
   },
   "outputs": [
    {
     "name": "stdout",
     "output_type": "stream",
     "text": [
      "elapsed time: 2.875017448 seconds (399666120 bytes allocated, 23.46% gc time)\n"
     ]
    }
   ],
   "source": [
    "posMu = 1\n",
    "@time for i=1:size(A,1)           #B has the same number of rows!\n",
    "    posA = 1 + A[i]\n",
    "    posB = 1 + pA + B[i]\n",
    "    XPX[posMu,posMu] += 1.0\n",
    "    XPX[posMu,posA]  += 1.0\n",
    "    XPX[posMu,posB]  += 1.0\n",
    "    XPX[posA,posMu]  += 1.0\n",
    "    XPX[posA,posA]   += 1.0\n",
    "    XPX[posA,posB]   += 1.0\n",
    "    XPX[posB,posMu]  += 1.0\n",
    "    XPX[posB,posA]   += 1.0\n",
    "    XPX[posB,posB]   += 1.0\n",
    "end "
   ]
  },
  {
   "cell_type": "markdown",
   "metadata": {},
   "source": [
    "### Computing sparse-stored X'X as product of sparse-stored (X' and X)"
   ]
  },
  {
   "cell_type": "code",
   "execution_count": 79,
   "metadata": {
    "collapsed": false
   },
   "outputs": [
    {
     "name": "stdout",
     "output_type": "stream",
     "text": [
      "elapsed time: 0.143970835 seconds (48025184 bytes allocated, 92.48% gc time)\n"
     ]
    }
   ],
   "source": [
    "ii  = 1:n\n",
    "XA  = sparse(ii,A,1.0)\n",
    "XB  = sparse(ii,B,1.0)\n",
    "jj  = fill(1,n)\n",
    "XMu = sparse(ii,jj,1.0)\n",
    "@time X = [XMu XA XB];"
   ]
  },
  {
   "cell_type": "code",
   "execution_count": 44,
   "metadata": {
    "collapsed": false
   },
   "outputs": [
    {
     "name": "stdout",
     "output_type": "stream",
     "text": [
      "elapsed time: 0.636161008 seconds (122031248 bytes allocated, 12.35% gc time)\n"
     ]
    }
   ],
   "source": [
    "@time XPX = X'X;"
   ]
  },
  {
   "cell_type": "code",
   "execution_count": 66,
   "metadata": {
    "collapsed": false
   },
   "outputs": [],
   "source": [
    "y = XA*α + XB*β + randn(n);"
   ]
  },
  {
   "cell_type": "code",
   "execution_count": 68,
   "metadata": {
    "collapsed": false
   },
   "outputs": [
    {
     "name": "stdout",
     "output_type": "stream",
     "text": [
      "elapsed time: 0.018238806 seconds (12160 bytes allocated)\n"
     ]
    }
   ],
   "source": [
    "@time XPy = X'y;"
   ]
  },
  {
   "cell_type": "code",
   "execution_count": 70,
   "metadata": {
    "collapsed": false
   },
   "outputs": [
    {
     "name": "stdout",
     "output_type": "stream",
     "text": [
      "CHOLMOD warning: matrix not positive definite\n",
      "elapsed time: 0.881579143 seconds (137733512 bytes allocated, 29.08% gc time)\n"
     ]
    }
   ],
   "source": [
    "@time sol = XPX\\XPy;"
   ]
  },
  {
   "cell_type": "code",
   "execution_count": 72,
   "metadata": {
    "collapsed": false
   },
   "outputs": [
    {
     "data": {
      "text/plain": [
       "1501x2 Array{Float64,2}:\n",
       " 87283.8    87283.8  \n",
       "  1052.43    1052.43 \n",
       "  -907.348   -907.348\n",
       " -1035.02   -1035.02 \n",
       "   757.389    757.389\n",
       " -1461.79   -1461.79 \n",
       "   460.433    460.433\n",
       "  -832.001   -832.001\n",
       "  1968.13    1968.13 \n",
       "   572.016    572.016\n",
       "  -712.859   -712.859\n",
       "   758.905    758.905\n",
       "  -557.517   -557.517\n",
       "     ⋮               \n",
       " -1129.72   -1129.72 \n",
       "  -992.297   -992.297\n",
       "   664.42     664.42 \n",
       "  2945.02    2945.02 \n",
       "  -292.96    -292.96 \n",
       "  -402.337   -402.337\n",
       " -1736.06   -1736.06 \n",
       " -2651.45   -2651.45 \n",
       " -1361.9    -1361.9  \n",
       "  1414.25    1414.25 \n",
       "  -831.49    -831.49 \n",
       "  1922.69    1922.69 "
      ]
     },
     "execution_count": 72,
     "metadata": {},
     "output_type": "execute_result"
    }
   ],
   "source": [
    "[XPX*sol XPy]"
   ]
  },
  {
   "cell_type": "code",
   "execution_count": 71,
   "metadata": {
    "collapsed": false
   },
   "outputs": [
    {
     "data": {
      "text/plain": [
       "1.209099095543353e-16"
      ]
     },
     "execution_count": 71,
     "metadata": {},
     "output_type": "execute_result"
    }
   ],
   "source": [
    "sum((XPy - XPX*sol).^2)"
   ]
  }
 ],
 "metadata": {
  "kernelspec": {
   "display_name": "Julia 0.3.7",
   "language": "julia",
   "name": "julia 0.3"
  },
  "language_info": {
   "name": "julia",
   "version": "0.3.7"
  }
 },
 "nbformat": 4,
 "nbformat_minor": 0
}

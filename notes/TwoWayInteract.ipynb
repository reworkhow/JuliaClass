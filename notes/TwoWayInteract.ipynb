{
 "cells": [
  {
   "cell_type": "markdown",
   "metadata": {},
   "source": [
    "## Two-Way Model with Interaction\n",
    "### Data"
   ]
  },
  {
   "cell_type": "code",
   "execution_count": 3,
   "metadata": {
    "collapsed": false
   },
   "outputs": [],
   "source": [
    "using Distributions\n",
    "n = 1000\n",
    "pA = 200\n",
    "pB = 300\n",
    "A = kron(ones(10),sample([1:pA],n))\n",
    "B = kron(ones(10),sample([1:pB],n));"
   ]
  },
  {
   "cell_type": "code",
   "execution_count": 4,
   "metadata": {
    "collapsed": false
   },
   "outputs": [],
   "source": [
    "strAB = [string(A[i])*\"x\"*string(B[i]) for i=1:size(A,1)];"
   ]
  },
  {
   "cell_type": "code",
   "execution_count": 5,
   "metadata": {
    "collapsed": false
   },
   "outputs": [
    {
     "data": {
      "text/plain": [
       "mkDict (generic function with 1 method)"
      ]
     },
     "execution_count": 5,
     "metadata": {},
     "output_type": "execute_result"
    }
   ],
   "source": [
    "function mkDict(a)\n",
    "    aUnique = unique(a)\n",
    "    d = Dict()\n",
    "    for (i,s) in enumerate(aUnique)\n",
    "        d[s] = i\n",
    "    end\n",
    "    return d\n",
    "end"
   ]
  },
  {
   "cell_type": "code",
   "execution_count": 6,
   "metadata": {
    "collapsed": false
   },
   "outputs": [
    {
     "data": {
      "text/plain": [
       "Jacobi (generic function with 1 method)"
      ]
     },
     "execution_count": 6,
     "metadata": {},
     "output_type": "execute_result"
    }
   ],
   "source": [
    "function Jacobi(A,x,b,p;tol=0.000001)\n",
    "    D       = diag(A)\n",
    "    res     = A*x\n",
    "    resid   = b-res\n",
    "    tempSol = resid./D\n",
    "    diff    = sum(resid.^2)\n",
    "    n    = size(A,1)\n",
    "    iter = 0\n",
    "    while ((diff/n > 0.001) & (iter<1000))\n",
    "        iter += 1\n",
    "        x = p*tempSol + (1-p)*x\n",
    "        res     = A*x\n",
    "        resid   = b-res\n",
    "        tempSol = resid./D + x\n",
    "        diff    = sum(resid.^2)\n",
    "        println(iter,\" \",diff/n)\n",
    "    end\n",
    "    return x\n",
    "end"
   ]
  },
  {
   "cell_type": "code",
   "execution_count": 7,
   "metadata": {
    "collapsed": false,
    "scrolled": false
   },
   "outputs": [],
   "source": [
    "dA = mkDict(A)\n",
    "dB = mkDict(B)\n",
    "dAB = mkDict(strAB);"
   ]
  },
  {
   "cell_type": "code",
   "execution_count": 8,
   "metadata": {
    "collapsed": false
   },
   "outputs": [],
   "source": [
    "iA  = int([dA[i] for i in A])\n",
    "iB  = int([dB[i] for i in B])\n",
    "iAB = int([dAB[i] for i in strAB]);"
   ]
  },
  {
   "cell_type": "code",
   "execution_count": 10,
   "metadata": {
    "collapsed": false
   },
   "outputs": [],
   "source": [
    "ii   = 1:size(A,1)\n",
    "XA   = sparse(ii,iA,1.0)\n",
    "XB   = sparse(ii,iB,1.0)\n",
    "XAB  = sparse(ii,iAB,1.0);"
   ]
  },
  {
   "cell_type": "markdown",
   "metadata": {},
   "source": [
    "### Computing sparse-stored X'X as product of sparse-stored (X' and X)"
   ]
  },
  {
   "cell_type": "code",
   "execution_count": 35,
   "metadata": {
    "collapsed": false
   },
   "outputs": [
    {
     "name": "stdout",
     "output_type": "stream",
     "text": [
      "elapsed time: 0.000118835 seconds (665584 bytes allocated)\n"
     ]
    }
   ],
   "source": [
    "nObs = size(A,1)\n",
    "jj   = fill(1,nObs)\n",
    "XMu  = sparse(ii,jj,1.0)\n",
    "@time X = [XMu XA XB XAB];"
   ]
  },
  {
   "cell_type": "code",
   "execution_count": 49,
   "metadata": {
    "collapsed": false
   },
   "outputs": [
    {
     "name": "stdout",
     "output_type": "stream",
     "text": [
      "elapsed time: 0.001881922 seconds (2410240 bytes allocated)\n"
     ]
    },
    {
     "data": {
      "text/plain": [
       "(1479,1479)"
      ]
     },
     "execution_count": 49,
     "metadata": {},
     "output_type": "execute_result"
    }
   ],
   "source": [
    "@time XPX = X'X\n",
    "size(XPX)"
   ]
  },
  {
   "cell_type": "markdown",
   "metadata": {},
   "source": [
    "#### Simulate y"
   ]
  },
  {
   "cell_type": "code",
   "execution_count": 22,
   "metadata": {
    "collapsed": false
   },
   "outputs": [],
   "source": [
    "pA  = size(XA,2)\n",
    "pB  = size(XB,2)\n",
    "pAB = size(XAB,2)\n",
    "α   = randn(pA)\n",
    "β   = randn(pB)\n",
    "αβ  = randn(pAB)\n",
    "y = XA*α + XB*β + XAB*αβ + randn(nObs);"
   ]
  },
  {
   "cell_type": "code",
   "execution_count": 24,
   "metadata": {
    "collapsed": false
   },
   "outputs": [
    {
     "name": "stdout",
     "output_type": "stream",
     "text": [
      "elapsed time: 0.013340256 seconds (514260 bytes allocated)\n"
     ]
    }
   ],
   "source": [
    "@time XPy = X'y;"
   ]
  },
  {
   "cell_type": "code",
   "execution_count": 42,
   "metadata": {
    "collapsed": false
   },
   "outputs": [],
   "source": [
    "XPXF = full(XPX);"
   ]
  },
  {
   "cell_type": "code",
   "execution_count": 46,
   "metadata": {
    "collapsed": false
   },
   "outputs": [
    {
     "name": "stdout",
     "output_type": "stream",
     "text": [
      "elapsed time: 1.123876223 seconds (157718840 bytes allocated, 5.50% gc time)\n"
     ]
    }
   ],
   "source": [
    "@time XPXi = pinv(XPXF);"
   ]
  },
  {
   "cell_type": "code",
   "execution_count": 44,
   "metadata": {
    "collapsed": false
   },
   "outputs": [
    {
     "name": "stdout",
     "output_type": "stream",
     "text": [
      "elapsed time: 1.145523672 seconds (157718840 bytes allocated, 3.24% gc time)\n"
     ]
    }
   ],
   "source": [
    "sol  = XPXi*XPy;"
   ]
  },
  {
   "cell_type": "code",
   "execution_count": 63,
   "metadata": {
    "collapsed": false
   },
   "outputs": [
    {
     "name": "stdout",
     "output_type": "stream",
     "text": [
      "1 205.0883861260506\n",
      "2 53.18868157148408\n",
      "3 17.920271047885485\n",
      "4 7.306110283696749\n",
      "5 3.3546629393021634\n",
      "6 1.6528554671956137\n",
      "7 0.8497389487951501\n",
      "8 0.4486773407152217\n",
      "9 0.24109564225493454\n",
      "10 0.1311063936785637\n",
      "11 0.07189411891602937\n",
      "12 0.03966213684710666\n",
      "13 0.021977288099280193\n",
      "14 0.012217943197627316\n",
      "15 0.006809230585457584\n",
      "16 0.003802061843151804\n",
      "17 0.002126050120245078\n",
      "18 0.0011902016715980416\n",
      "19 0.0006668901447230746\n",
      "elapsed time: 0.070077784 seconds (1936728 bytes allocated)\n"
     ]
    }
   ],
   "source": [
    "p = size(XPX,1)\n",
    "x = zeros(p)\n",
    "@time sol = Jacobi(XPX,x,XPy,0.25);"
   ]
  },
  {
   "cell_type": "code",
   "execution_count": 62,
   "metadata": {
    "collapsed": false
   },
   "outputs": [
    {
     "data": {
      "text/plain": [
       "1479x2 Array{Float64,2}:\n",
       " 400.456    400.456  \n",
       "  81.1796    81.1818 \n",
       "  48.2585    48.2655 \n",
       " -29.2528   -29.2559 \n",
       "  -8.65785   -8.65344\n",
       " -10.6038   -10.6003 \n",
       "  12.9974    12.9903 \n",
       "  44.6625    44.6648 \n",
       " -55.973    -55.9727 \n",
       " 103.891    103.893  \n",
       "  70.2357    70.2343 \n",
       "  42.3192    42.3218 \n",
       " -39.7869   -39.7871 \n",
       "   ⋮                 \n",
       "  -7.37793   -7.41238\n",
       "  15.4255    15.4311 \n",
       "   4.76078    4.77416\n",
       "   4.36612    4.36137\n",
       "  12.6393    12.647  \n",
       "  30.3358    30.3621 \n",
       "  18.6257    18.6879 \n",
       " -15.5718   -15.5364 \n",
       "  -8.69301   -8.68792\n",
       "  -4.94223   -4.95279\n",
       "   8.84962    8.86273\n",
       "   4.38614    4.3807 "
      ]
     },
     "execution_count": 62,
     "metadata": {},
     "output_type": "execute_result"
    }
   ],
   "source": [
    "[XPX*sol XPy]"
   ]
  }
 ],
 "metadata": {
  "kernelspec": {
   "display_name": "Julia 0.3.7",
   "language": "julia",
   "name": "julia 0.3"
  },
  "language_info": {
   "name": "julia",
   "version": "0.3.7"
  }
 },
 "nbformat": 4,
 "nbformat_minor": 0
}

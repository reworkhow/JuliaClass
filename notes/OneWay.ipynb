{
 "cells": [
  {
   "cell_type": "markdown",
   "metadata": {},
   "source": [
    "## One-Way Model"
   ]
  },
  {
   "cell_type": "markdown",
   "metadata": {},
   "source": [
    "Consider the following data from a hypothetical one-way experiment with four levels of a treatment."
   ]
  },
  {
   "cell_type": "markdown",
   "metadata": {},
   "source": [
    "### Data"
   ]
  },
  {
   "cell_type": "code",
   "execution_count": 3,
   "metadata": {
    "collapsed": true
   },
   "outputs": [],
   "source": [
    "using DataFrames"
   ]
  },
  {
   "cell_type": "code",
   "execution_count": 4,
   "metadata": {
    "collapsed": false
   },
   "outputs": [
    {
     "data": {
      "text/html": [
       "<table class=\"data-frame\"><tr><th></th><th>A</th><th>y</th></tr><tr><th>1</th><td>1</td><td>1.1</td></tr><tr><th>2</th><td>1</td><td>1.2</td></tr><tr><th>3</th><td>2</td><td>1.9</td></tr><tr><th>4</th><td>2</td><td>1.2</td></tr><tr><th>5</th><td>2</td><td>2.0</td></tr><tr><th>6</th><td>2</td><td>1.7</td></tr><tr><th>7</th><td>3</td><td>1.0</td></tr><tr><th>8</th><td>3</td><td>1.7</td></tr><tr><th>9</th><td>4</td><td>1.1</td></tr><tr><th>10</th><td>1</td><td>1.7</td></tr></table>"
      ],
      "text/plain": [
       "10x2 DataFrame\n",
       "| Row | A | y   |\n",
       "|-----|---|-----|\n",
       "| 1   | 1 | 1.1 |\n",
       "| 2   | 1 | 1.2 |\n",
       "| 3   | 2 | 1.9 |\n",
       "| 4   | 2 | 1.2 |\n",
       "| 5   | 2 | 2.0 |\n",
       "| 6   | 2 | 1.7 |\n",
       "| 7   | 3 | 1.0 |\n",
       "| 8   | 3 | 1.7 |\n",
       "| 9   | 4 | 1.1 |\n",
       "| 10  | 1 | 1.7 |"
      ]
     },
     "execution_count": 4,
     "metadata": {},
     "output_type": "execute_result"
    }
   ],
   "source": [
    "df = readtable(\"OneWay.dat\", separator = ' ')"
   ]
  },
  {
   "cell_type": "markdown",
   "metadata": {},
   "source": [
    "The $\\mathbf{X}$ matrix for the one way model\n",
    "\n",
    "$$\n",
    "y_{ij} = \\mu + \\alpha_i + e_{ij}\n",
    "$$\n",
    "\n",
    "is\n",
    "\n",
    "$$\n",
    "\\mathbf{X} = \n",
    "\\begin{bmatrix}\n",
    "1 & 1 & 0 & 0 & 0 \\\\\n",
    "1 & 1 & 0 & 0 & 0 \\\\\n",
    "1 & 0 & 1 & 0 & 0 \\\\\n",
    "1 & 0 & 1 & 0 & 0 \\\\\n",
    "1 & 0 & 1 & 0 & 0 \\\\\n",
    "1 & 0 & 1 & 0 & 0 \\\\\n",
    "1 & 0 & 0 & 1 & 0 \\\\\n",
    "1 & 0 & 0 & 1 & 0 \\\\\n",
    "1 & 0 & 0 & 0 & 1 \\\\\n",
    "1 & 1 & 0 & 0 & 0 \\\\\n",
    "\\end{bmatrix}\n",
    "$$\n"
   ]
  },
  {
   "cell_type": "markdown",
   "metadata": {},
   "source": [
    "Note that any row of $\\mathbf{X}$ contains only two non-zero elements. These correspond to $\\mu$ and $\\alpha_i$ in the model. Recall that $\\mathbf{x}_i$ denotes row $i$ of $\\mathbf{X}$. The first element of $\\mathbf{x}_i$ corresponds to $\\mu$. Thus, all $\\mathbf{x}_i$ will contain a \"1\" in this position. The second element of $\\mathbf{x}_i$ corresponds to $\\alpha_1$. Thus, $\\mathbf{x}_1$, $\\mathbf{x}_2$ and $\\mathbf{x}_{10}$ contain a \"1\" in this position because observations 1, 2 and 10 are from treatment 1. So, the contribution from the first observation, for example,  to the $\\mathbf{X'X}$ matrix is"
   ]
  },
  {
   "cell_type": "markdown",
   "metadata": {},
   "source": [
    "$$\n",
    "\\mathbf{x}_1\\mathbf{x}'_1 = \n",
    "\\begin{bmatrix}\n",
    "1 \\\\\n",
    "1 \\\\\n",
    "0 \\\\\n",
    "0 \\\\\n",
    "0\n",
    "\\end{bmatrix} \n",
    "\\begin{bmatrix}\n",
    "1 & 1 & 0 & 0 & 0 \n",
    "\\end{bmatrix} = \n",
    "\\begin{bmatrix}\n",
    "1 & 1 & 0 & 0 & 0 \\\\\n",
    "1 & 1 & 0 & 0 & 0 \\\\\n",
    "0 & 0 & 0 & 0 & 0 \\\\\n",
    "0 & 0 & 0 & 0 & 0 \\\\\n",
    "0 & 0 & 0 & 0 & 0 \n",
    "\\end{bmatrix}\n",
    "$$"
   ]
  },
  {
   "cell_type": "markdown",
   "metadata": {},
   "source": [
    "The contributions from observations 2 and 10 would be identical to this because $\\mathbf{x}_2$ and $\\mathbf{x}_{10}$ are identical to $\\mathbf{x}_1$. In general, set posmu = 1, which is the column position of the \"1\" in any $\\mathbf{x}_i'$ corresponding to μ, and set posA equal to the column position for the \"1\" in any $\\mathbf{x}_i'$ corresponding to $α_i$. Then, the positions of the contributions to $\\mathbf{X'X}$ from any observations are: (posmu,posmu), (posmu,posA), (posA,posmu) and (posA,posA). Further, in the one-way model, the contribution to each of these positions is a \"1\". So, $\\mathbf{X'X}$ can be constructed efficiently by setting postrt = 1 + A, where A is the level of the factor A for observation $i$, and adding \"1\" to positions (posmu,posmu), (posmu,posA), (posA,posmu) and (posA,posA) in $\\mathbf{X'X}$ for each observation in the data file. Similarly, $\\mathbf{X'y}$ can be constructed efficiently by adding $\\mathbf{y}_i$ to positions posmu and posA in $\\mathbf{X'y}$. This strategy is used in the program given below."
   ]
  },
  {
   "cell_type": "markdown",
   "metadata": {},
   "source": [
    "#### Levels in A"
   ]
  },
  {
   "cell_type": "code",
   "execution_count": 5,
   "metadata": {
    "collapsed": false
   },
   "outputs": [
    {
     "data": {
      "text/plain": [
       "4-element DataArray{Int64,1}:\n",
       " 1\n",
       " 2\n",
       " 3\n",
       " 4"
      ]
     },
     "execution_count": 5,
     "metadata": {},
     "output_type": "execute_result"
    }
   ],
   "source": [
    "unique(df[:A])"
   ]
  },
  {
   "cell_type": "markdown",
   "metadata": {},
   "source": [
    "#### Number of levels in A "
   ]
  },
  {
   "cell_type": "code",
   "execution_count": 6,
   "metadata": {
    "collapsed": false
   },
   "outputs": [
    {
     "data": {
      "text/plain": [
       "4"
      ]
     },
     "execution_count": 6,
     "metadata": {},
     "output_type": "execute_result"
    }
   ],
   "source": [
    "levelsA = length(unique(df[:A]))"
   ]
  },
  {
   "cell_type": "markdown",
   "metadata": {},
   "source": [
    "#### Make X'X and X'y"
   ]
  },
  {
   "cell_type": "code",
   "execution_count": 7,
   "metadata": {
    "collapsed": false
   },
   "outputs": [],
   "source": [
    "p = levelsA + 1\n",
    "XPX = fill(0.0,p,p)\n",
    "xpy = fill(0.0,p);\n",
    "for i in 1:size(df,1)\n",
    "    posMu = 1\n",
    "    posA  = 1 + df[i,:A]\n",
    "    y     = df[i,:y]\n",
    "    XPX[posMu,posMu] += 1.0\n",
    "    XPX[posMu,posA]  += 1.0\n",
    "    XPX[posA,posMu]  += 1.0\n",
    "    XPX[posA,posA]   += 1.0\n",
    "    xpy[posMu]  += y\n",
    "    xpy[posA]   += y   \n",
    "end"
   ]
  },
  {
   "cell_type": "code",
   "execution_count": 8,
   "metadata": {
    "collapsed": false
   },
   "outputs": [
    {
     "data": {
      "text/plain": [
       "5x5 Array{Float64,2}:\n",
       " 10.0  3.0  4.0  2.0  1.0\n",
       "  3.0  3.0  0.0  0.0  0.0\n",
       "  4.0  0.0  4.0  0.0  0.0\n",
       "  2.0  0.0  0.0  2.0  0.0\n",
       "  1.0  0.0  0.0  0.0  1.0"
      ]
     },
     "execution_count": 8,
     "metadata": {},
     "output_type": "execute_result"
    }
   ],
   "source": [
    "XPX"
   ]
  },
  {
   "cell_type": "code",
   "execution_count": 9,
   "metadata": {
    "collapsed": false
   },
   "outputs": [
    {
     "data": {
      "text/plain": [
       "5-element Array{Float64,1}:\n",
       " 14.6\n",
       "  4.0\n",
       "  6.8\n",
       "  2.7\n",
       "  1.1"
      ]
     },
     "execution_count": 9,
     "metadata": {},
     "output_type": "execute_result"
    }
   ],
   "source": [
    "xpy"
   ]
  },
  {
   "cell_type": "markdown",
   "metadata": {},
   "source": [
    "#### Solution\n",
    "Note $\\mathbf{X'X}$ is singular, but a solution can be obtained as follows. "
   ]
  },
  {
   "cell_type": "code",
   "execution_count": 10,
   "metadata": {
    "collapsed": false
   },
   "outputs": [
    {
     "data": {
      "text/plain": [
       "5-element Array{Float64,1}:\n",
       "  1.825   \n",
       " -0.491667\n",
       " -0.125   \n",
       " -0.475   \n",
       " -0.725   "
      ]
     },
     "execution_count": 10,
     "metadata": {},
     "output_type": "execute_result"
    }
   ],
   "source": [
    "sol = XPX\\xpy"
   ]
  },
  {
   "cell_type": "markdown",
   "metadata": {},
   "source": [
    "#### Verify solution "
   ]
  },
  {
   "cell_type": "code",
   "execution_count": 11,
   "metadata": {
    "collapsed": false
   },
   "outputs": [
    {
     "data": {
      "text/plain": [
       "5x2 Array{Float64,2}:\n",
       " 14.6  14.6\n",
       "  4.0   4.0\n",
       "  6.8   6.8\n",
       "  2.7   2.7\n",
       "  1.1   1.1"
      ]
     },
     "execution_count": 11,
     "metadata": {},
     "output_type": "execute_result"
    }
   ],
   "source": [
    "[XPX*sol xpy]"
   ]
  },
  {
   "cell_type": "markdown",
   "metadata": {},
   "source": [
    "### Big Example"
   ]
  },
  {
   "cell_type": "code",
   "execution_count": 2,
   "metadata": {
    "collapsed": true
   },
   "outputs": [],
   "source": [
    "using Distributions"
   ]
  },
  {
   "cell_type": "markdown",
   "metadata": {},
   "source": [
    "#### Generate data"
   ]
  },
  {
   "cell_type": "code",
   "execution_count": 3,
   "metadata": {
    "collapsed": false
   },
   "outputs": [],
   "source": [
    "n = 1000000\n",
    "p = 1000\n",
    "A = sample([1:p],n)\n",
    "α = randn(p)\n",
    "y = [α[i] + randn(1) for i in A];"
   ]
  },
  {
   "cell_type": "markdown",
   "metadata": {},
   "source": [
    "### Computing X'X as product of full-stored (X' and X)"
   ]
  },
  {
   "cell_type": "code",
   "execution_count": 16,
   "metadata": {
    "collapsed": true
   },
   "outputs": [],
   "source": [
    "X = fill(0.0,(n,p));"
   ]
  },
  {
   "cell_type": "code",
   "execution_count": 18,
   "metadata": {
    "collapsed": false
   },
   "outputs": [
    {
     "name": "stdout",
     "output_type": "stream",
     "text": [
      "elapsed time: 0.374754528 seconds (71887704 bytes allocated, 33.93% gc time)\n"
     ]
    }
   ],
   "source": [
    "@time for i = 1:n\n",
    "    j = A[i]\n",
    "    X[i,j] = 1.0\n",
    "end"
   ]
  },
  {
   "cell_type": "code",
   "execution_count": 20,
   "metadata": {
    "collapsed": false
   },
   "outputs": [
    {
     "name": "stdout",
     "output_type": "stream",
     "text": [
      "elapsed time: 12.361388595 seconds (8000192 bytes allocated)\n"
     ]
    }
   ],
   "source": [
    "@time XPX = X'X;"
   ]
  },
  {
   "cell_type": "markdown",
   "metadata": {},
   "source": [
    "### Computing full-stored X'X without matrix multiplication"
   ]
  },
  {
   "cell_type": "code",
   "execution_count": 21,
   "metadata": {
    "collapsed": false
   },
   "outputs": [],
   "source": [
    "XPX = fill(0.0,p,p);"
   ]
  },
  {
   "cell_type": "code",
   "execution_count": 23,
   "metadata": {
    "collapsed": false
   },
   "outputs": [
    {
     "name": "stdout",
     "output_type": "stream",
     "text": [
      "elapsed time: 0.509628998 seconds (103798408 bytes allocated, 40.25% gc time)\n"
     ]
    }
   ],
   "source": [
    "@time for i in 1:size(A,1)\n",
    "    posA  = A[i]\n",
    "    XPX[posA,posA]   += 1.0\n",
    "end"
   ]
  },
  {
   "cell_type": "code",
   "execution_count": 24,
   "metadata": {
    "collapsed": false,
    "scrolled": true
   },
   "outputs": [
    {
     "data": {
      "text/plain": [
       "24.235294117647058"
      ]
     },
     "execution_count": 24,
     "metadata": {},
     "output_type": "execute_result"
    }
   ],
   "source": [
    "12.36/.51"
   ]
  },
  {
   "cell_type": "markdown",
   "metadata": {},
   "source": [
    "### Computing sparse-stored X'X as product of sparse-stored (X' and X)"
   ]
  },
  {
   "cell_type": "code",
   "execution_count": 8,
   "metadata": {
    "collapsed": false
   },
   "outputs": [
    {
     "name": "stdout",
     "output_type": "stream",
     "text": [
      "elapsed time: 0.115371995 seconds (64016736 bytes allocated, 51.93% gc time)\n"
     ]
    }
   ],
   "source": [
    "ii = 1:n\n",
    "@time X = sparse(ii,A,1.0);"
   ]
  },
  {
   "cell_type": "code",
   "execution_count": 31,
   "metadata": {
    "collapsed": false
   },
   "outputs": [
    {
     "name": "stdout",
     "output_type": "stream",
     "text": [
      "elapsed time: 0.242494377 seconds (56073456 bytes allocated)\n"
     ]
    }
   ],
   "source": [
    "@time XPX = X'X;"
   ]
  },
  {
   "cell_type": "markdown",
   "metadata": {},
   "source": [
    "### Computing sparse-stored X'X without matrix multiplication"
   ]
  },
  {
   "cell_type": "code",
   "execution_count": 33,
   "metadata": {
    "collapsed": false
   },
   "outputs": [
    {
     "data": {
      "text/plain": [
       "1000x1000 sparse matrix with 0 Float64 entries:"
      ]
     },
     "execution_count": 33,
     "metadata": {},
     "output_type": "execute_result"
    }
   ],
   "source": [
    "XPX = spzeros(p,p)"
   ]
  },
  {
   "cell_type": "code",
   "execution_count": 36,
   "metadata": {
    "collapsed": false
   },
   "outputs": [
    {
     "name": "stdout",
     "output_type": "stream",
     "text": [
      "elapsed time: 0.533198848 seconds (103798376 bytes allocated, 38.87% gc time)\n"
     ]
    }
   ],
   "source": [
    "@time for i in 1:size(A,1)\n",
    "    posA  = A[i]\n",
    "    XPX[posA,posA]   += 1.0\n",
    "end"
   ]
  }
 ],
 "metadata": {
  "kernelspec": {
   "display_name": "Julia 0.3.7",
   "language": "julia",
   "name": "julia 0.3"
  },
  "language_info": {
   "name": "julia",
   "version": "0.3.7"
  }
 },
 "nbformat": 4,
 "nbformat_minor": 0
}
